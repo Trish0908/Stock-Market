{
  "nbformat": 4,
  "nbformat_minor": 0,
  "metadata": {
    "kernelspec": {
      "display_name": "Python 3",
      "language": "python",
      "name": "python3"
    },
    "language_info": {
      "codemirror_mode": {
        "name": "ipython",
        "version": 3
      },
      "file_extension": ".py",
      "mimetype": "text/x-python",
      "name": "python",
      "nbconvert_exporter": "python",
      "pygments_lexer": "ipython3",
      "version": "3.7.4"
    },
    "colab": {
      "name": "StockMarket.ipynb",
      "provenance": []
    }
  },
  "cells": [
    {
      "cell_type": "markdown",
      "metadata": {
        "id": "5g5-Ux-HCQZP"
      },
      "source": [
        "### Description: This program uses an artificial recurrent neural network called Long Short Term Memory (LSTM) to predict the closing stock price of a corpration (Apple Inc.) using the past 60 day stock price.\n",
        "                  "
      ]
    },
    {
      "cell_type": "markdown",
      "metadata": {
        "id": "uwVZ6z6kCQZQ"
      },
      "source": [
        "#### LSTM Defination : Long short-term memory (LSTM) is an artificial recurrent neural network (RNN) architecture used in the field of deep learning. Unlike standard feedforward neural networks, LSTM has feedback connections. It can not only process single data points (such as images), but also entire sequences of data (such as speech or video)."
      ]
    },
    {
      "cell_type": "markdown",
      "metadata": {
        "id": "32pxDW1yCQZR"
      },
      "source": [
        "#### Import the Libraries"
      ]
    },
    {
      "cell_type": "code",
      "metadata": {
        "id": "MGn2pf8SCQZR"
      },
      "source": [
        "import math\n",
        "import pandas_datareader as web\n",
        "import numpy as np\n",
        "import pandas as pd\n",
        "from sklearn.preprocessing import MinMaxScaler\n",
        "from keras.models import Sequential\n",
        "from keras.layers import Dense, LSTM\n",
        "import matplotlib.pyplot as plt\n",
        "plt.style.use('fivethirtyeight')"
      ],
      "execution_count": null,
      "outputs": []
    },
    {
      "cell_type": "markdown",
      "metadata": {
        "id": "sMO0vA-TCQZV"
      },
      "source": [
        " ##### Get the stock quote\n"
      ]
    },
    {
      "cell_type": "code",
      "metadata": {
        "id": "-MahBW8qCQZV"
      },
      "source": [
        "df = web.DataReader('AAPL', data_source = 'yahoo', start = '2015-01-01', end = '2019-12-17')"
      ],
      "execution_count": null,
      "outputs": []
    },
    {
      "cell_type": "markdown",
      "metadata": {
        "id": "2xQygZ1CCQZY"
      },
      "source": [
        "###### Show the Data"
      ]
    },
    {
      "cell_type": "code",
      "metadata": {
        "id": "5a9licnmCQZZ",
        "outputId": "808f976a-eb08-4302-e374-9bdbdfefd472"
      },
      "source": [
        "df"
      ],
      "execution_count": null,
      "outputs": [
        {
          "output_type": "execute_result",
          "data": {
            "text/html": [
              "<div>\n",
              "<style scoped>\n",
              "    .dataframe tbody tr th:only-of-type {\n",
              "        vertical-align: middle;\n",
              "    }\n",
              "\n",
              "    .dataframe tbody tr th {\n",
              "        vertical-align: top;\n",
              "    }\n",
              "\n",
              "    .dataframe thead th {\n",
              "        text-align: right;\n",
              "    }\n",
              "</style>\n",
              "<table border=\"1\" class=\"dataframe\">\n",
              "  <thead>\n",
              "    <tr style=\"text-align: right;\">\n",
              "      <th></th>\n",
              "      <th>High</th>\n",
              "      <th>Low</th>\n",
              "      <th>Open</th>\n",
              "      <th>Close</th>\n",
              "      <th>Volume</th>\n",
              "      <th>Adj Close</th>\n",
              "    </tr>\n",
              "    <tr>\n",
              "      <th>Date</th>\n",
              "      <th></th>\n",
              "      <th></th>\n",
              "      <th></th>\n",
              "      <th></th>\n",
              "      <th></th>\n",
              "      <th></th>\n",
              "    </tr>\n",
              "  </thead>\n",
              "  <tbody>\n",
              "    <tr>\n",
              "      <td>2014-12-31</td>\n",
              "      <td>113.129997</td>\n",
              "      <td>110.209999</td>\n",
              "      <td>112.820000</td>\n",
              "      <td>110.379997</td>\n",
              "      <td>41403400.0</td>\n",
              "      <td>100.724174</td>\n",
              "    </tr>\n",
              "    <tr>\n",
              "      <td>2015-01-02</td>\n",
              "      <td>111.440002</td>\n",
              "      <td>107.349998</td>\n",
              "      <td>111.389999</td>\n",
              "      <td>109.330002</td>\n",
              "      <td>53204600.0</td>\n",
              "      <td>99.766006</td>\n",
              "    </tr>\n",
              "    <tr>\n",
              "      <td>2015-01-05</td>\n",
              "      <td>108.650002</td>\n",
              "      <td>105.410004</td>\n",
              "      <td>108.290001</td>\n",
              "      <td>106.250000</td>\n",
              "      <td>64285500.0</td>\n",
              "      <td>96.955429</td>\n",
              "    </tr>\n",
              "    <tr>\n",
              "      <td>2015-01-06</td>\n",
              "      <td>107.430000</td>\n",
              "      <td>104.629997</td>\n",
              "      <td>106.540001</td>\n",
              "      <td>106.260002</td>\n",
              "      <td>65797100.0</td>\n",
              "      <td>96.964584</td>\n",
              "    </tr>\n",
              "    <tr>\n",
              "      <td>2015-01-07</td>\n",
              "      <td>108.199997</td>\n",
              "      <td>106.699997</td>\n",
              "      <td>107.199997</td>\n",
              "      <td>107.750000</td>\n",
              "      <td>40105900.0</td>\n",
              "      <td>98.324242</td>\n",
              "    </tr>\n",
              "    <tr>\n",
              "      <td>...</td>\n",
              "      <td>...</td>\n",
              "      <td>...</td>\n",
              "      <td>...</td>\n",
              "      <td>...</td>\n",
              "      <td>...</td>\n",
              "      <td>...</td>\n",
              "    </tr>\n",
              "    <tr>\n",
              "      <td>2019-12-11</td>\n",
              "      <td>271.100006</td>\n",
              "      <td>268.500000</td>\n",
              "      <td>268.809998</td>\n",
              "      <td>270.769989</td>\n",
              "      <td>19689200.0</td>\n",
              "      <td>268.914795</td>\n",
              "    </tr>\n",
              "    <tr>\n",
              "      <td>2019-12-12</td>\n",
              "      <td>272.559998</td>\n",
              "      <td>267.320007</td>\n",
              "      <td>267.779999</td>\n",
              "      <td>271.459991</td>\n",
              "      <td>34327600.0</td>\n",
              "      <td>269.600067</td>\n",
              "    </tr>\n",
              "    <tr>\n",
              "      <td>2019-12-13</td>\n",
              "      <td>275.299988</td>\n",
              "      <td>270.929993</td>\n",
              "      <td>271.459991</td>\n",
              "      <td>275.149994</td>\n",
              "      <td>33396900.0</td>\n",
              "      <td>273.264771</td>\n",
              "    </tr>\n",
              "    <tr>\n",
              "      <td>2019-12-16</td>\n",
              "      <td>280.790009</td>\n",
              "      <td>276.980011</td>\n",
              "      <td>277.000000</td>\n",
              "      <td>279.859985</td>\n",
              "      <td>32046500.0</td>\n",
              "      <td>277.942474</td>\n",
              "    </tr>\n",
              "    <tr>\n",
              "      <td>2019-12-17</td>\n",
              "      <td>281.769989</td>\n",
              "      <td>278.799988</td>\n",
              "      <td>279.570007</td>\n",
              "      <td>280.410004</td>\n",
              "      <td>28539600.0</td>\n",
              "      <td>278.488770</td>\n",
              "    </tr>\n",
              "  </tbody>\n",
              "</table>\n",
              "<p>1250 rows × 6 columns</p>\n",
              "</div>"
            ],
            "text/plain": [
              "                  High         Low        Open       Close      Volume  \\\n",
              "Date                                                                     \n",
              "2014-12-31  113.129997  110.209999  112.820000  110.379997  41403400.0   \n",
              "2015-01-02  111.440002  107.349998  111.389999  109.330002  53204600.0   \n",
              "2015-01-05  108.650002  105.410004  108.290001  106.250000  64285500.0   \n",
              "2015-01-06  107.430000  104.629997  106.540001  106.260002  65797100.0   \n",
              "2015-01-07  108.199997  106.699997  107.199997  107.750000  40105900.0   \n",
              "...                ...         ...         ...         ...         ...   \n",
              "2019-12-11  271.100006  268.500000  268.809998  270.769989  19689200.0   \n",
              "2019-12-12  272.559998  267.320007  267.779999  271.459991  34327600.0   \n",
              "2019-12-13  275.299988  270.929993  271.459991  275.149994  33396900.0   \n",
              "2019-12-16  280.790009  276.980011  277.000000  279.859985  32046500.0   \n",
              "2019-12-17  281.769989  278.799988  279.570007  280.410004  28539600.0   \n",
              "\n",
              "             Adj Close  \n",
              "Date                    \n",
              "2014-12-31  100.724174  \n",
              "2015-01-02   99.766006  \n",
              "2015-01-05   96.955429  \n",
              "2015-01-06   96.964584  \n",
              "2015-01-07   98.324242  \n",
              "...                ...  \n",
              "2019-12-11  268.914795  \n",
              "2019-12-12  269.600067  \n",
              "2019-12-13  273.264771  \n",
              "2019-12-16  277.942474  \n",
              "2019-12-17  278.488770  \n",
              "\n",
              "[1250 rows x 6 columns]"
            ]
          },
          "metadata": {
            "tags": []
          },
          "execution_count": 140
        }
      ]
    },
    {
      "cell_type": "markdown",
      "metadata": {
        "id": "FoYyouk4CQZc"
      },
      "source": [
        "###### Get the number of rows and columns in the data set"
      ]
    },
    {
      "cell_type": "code",
      "metadata": {
        "id": "f1HlKTuoCQZc",
        "outputId": "2d8b301e-1539-40e9-f75a-54b8d79d462c"
      },
      "source": [
        "df.shape"
      ],
      "execution_count": null,
      "outputs": [
        {
          "output_type": "execute_result",
          "data": {
            "text/plain": [
              "(1250, 6)"
            ]
          },
          "metadata": {
            "tags": []
          },
          "execution_count": 141
        }
      ]
    },
    {
      "cell_type": "markdown",
      "metadata": {
        "id": "pWyVZr0ACQZf"
      },
      "source": [
        "###### Visualize the closing price history"
      ]
    },
    {
      "cell_type": "code",
      "metadata": {
        "id": "yvXG10VeCQZf",
        "outputId": "fc0cbf80-7c7a-4929-e7e7-cf3d26bc6af6"
      },
      "source": [
        "plt.figure(figsize = (16, 8))\n",
        "plt.title('Close Price History')\n",
        "plt.plot(df['Close'])\n",
        "plt.xlabel('Date', fontsize = 18)\n",
        "plt.ylabel('Close Price USD ($)', fontsize = 18)\n",
        "plt.show()"
      ],
      "execution_count": null,
      "outputs": [
        {
          "output_type": "display_data",
          "data": {
            "image/png": "[encoded data removed]",
            "text/plain": [
              "<Figure size 1152x576 with 1 Axes>"
            ]
          },
          "metadata": {
            "tags": []
          }
        }
      ]
    },
    {
      "cell_type": "markdown",
      "metadata": {
        "id": "y1lTeT1TCQZi"
      },
      "source": [
        "##### Create a new dataframe with only the 'Close column'"
      ]
    },
    {
      "cell_type": "code",
      "metadata": {
        "id": "ENFUDfFbCQZi"
      },
      "source": [
        "data = df.filter(['Close'])\n"
      ],
      "execution_count": null,
      "outputs": []
    },
    {
      "cell_type": "markdown",
      "metadata": {
        "id": "BPg0oPYWCQZl"
      },
      "source": [
        "##### Convert the dataframe to a numpy array"
      ]
    },
    {
      "cell_type": "code",
      "metadata": {
        "id": "VycgQKvzCQZm"
      },
      "source": [
        "dataset = data.values"
      ],
      "execution_count": null,
      "outputs": []
    },
    {
      "cell_type": "markdown",
      "metadata": {
        "id": "6dz73MFICQZo"
      },
      "source": [
        "##### Get the number of rows to train the model on"
      ]
    },
    {
      "cell_type": "code",
      "metadata": {
        "id": "q-dxQTXlCQZp",
        "outputId": "f1e4d245-fb73-4191-b418-5520ca29135f"
      },
      "source": [
        "training_data_len = math.ceil(len(dataset) * .70) \n",
        "training_data_len"
      ],
      "execution_count": null,
      "outputs": [
        {
          "output_type": "execute_result",
          "data": {
            "text/plain": [
              "875"
            ]
          },
          "metadata": {
            "tags": []
          },
          "execution_count": 157
        }
      ]
    },
    {
      "cell_type": "markdown",
      "metadata": {
        "id": "wjOC8DTICQZr"
      },
      "source": [
        "##### Scale the data"
      ]
    },
    {
      "cell_type": "code",
      "metadata": {
        "id": "kb_B2ZNzCQZr",
        "outputId": "455f5fc4-659f-4298-cbdf-58ed4d8381ce"
      },
      "source": [
        "scaler = MinMaxScaler(feature_range = (0,1))\n",
        "scaled_data = scaler.fit_transform(dataset)\n",
        "scaled_data                                   "
      ],
      "execution_count": null,
      "outputs": [
        {
          "output_type": "execute_result",
          "data": {
            "text/plain": [
              "array([[0.10543484],\n",
              "       [0.09991058],\n",
              "       [0.08370602],\n",
              "       ...,\n",
              "       [0.97232593],\n",
              "       [0.99710623],\n",
              "       [1.        ]])"
            ]
          },
          "metadata": {
            "tags": []
          },
          "execution_count": 158
        }
      ]
    },
    {
      "cell_type": "markdown",
      "metadata": {
        "id": "brQnKHS_CQZt"
      },
      "source": [
        "##### Create the training data set\n"
      ]
    },
    {
      "cell_type": "markdown",
      "metadata": {
        "id": "ANrFETLqCQZu"
      },
      "source": [
        "##### Create the scaled training data set\n"
      ]
    },
    {
      "cell_type": "code",
      "metadata": {
        "id": "suucwPwgCQZu"
      },
      "source": [
        "train_data = scaled_data[0:training_data_len, :]"
      ],
      "execution_count": null,
      "outputs": []
    },
    {
      "cell_type": "markdown",
      "metadata": {
        "id": "SujDUwzuCQZx"
      },
      "source": [
        "##### Split the data into x_train and y_train sets"
      ]
    },
    {
      "cell_type": "code",
      "metadata": {
        "id": "9YYIZQnNCQZx"
      },
      "source": [
        "x_train = []\n",
        "y_train = []"
      ],
      "execution_count": null,
      "outputs": []
    },
    {
      "cell_type": "code",
      "metadata": {
        "id": "6wmhm7EjCQZ0",
        "outputId": "e32381f6-a660-467f-eb58-8b0f9fb4f58c"
      },
      "source": [
        "for i in range(60, len(train_data)):\n",
        "    x_train.append(train_data[i- 60:i, 0])\n",
        "    y_train.append(train_data[i, 0])\n",
        "    if i<= 60:\n",
        "        print(x_train)\n",
        "        print(y_train)\n",
        "        print()"
      ],
      "execution_count": null,
      "outputs": [
        {
          "output_type": "stream",
          "text": [
            "[array([0.10543484, 0.09991058, 0.08370602, 0.08375864, 0.09159785,\n",
            "       0.11337929, 0.11401065, 0.09948968, 0.10459307, 0.10238336,\n",
            "       0.08670491, 0.08233809, 0.09670124, 0.10106806, 0.11606253,\n",
            "       0.11911404, 0.11974536, 0.09891094, 0.13137265, 0.15026045,\n",
            "       0.14110594, 0.1488399 , 0.14894515, 0.15373284, 0.15573212,\n",
            "       0.15041828, 0.15457465, 0.16667543, 0.18172252, 0.19003526,\n",
            "       0.19329723, 0.19724314, 0.20192562, 0.20050507, 0.20602937,\n",
            "       0.22444364, 0.22007681, 0.20229387, 0.21086968, 0.20055774,\n",
            "       0.20387225, 0.2052928 , 0.20097856, 0.18977222, 0.19077182,\n",
            "       0.19361289, 0.1797759 , 0.16783291, 0.1794602 , 0.17493554,\n",
            "       0.1820908 , 0.19308677, 0.20061032, 0.19550693, 0.18708899,\n",
            "       0.19398117, 0.19124536, 0.17383069, 0.17835534, 0.17314675])]\n",
            "[0.18956176682432557]\n",
            "\n"
          ],
          "name": "stdout"
        }
      ]
    },
    {
      "cell_type": "markdown",
      "metadata": {
        "id": "bHCSLx1DCQZ2"
      },
      "source": [
        "##### Convert the x_train and y_train to numpy arrays (so that we can use to train the LSTM model)"
      ]
    },
    {
      "cell_type": "code",
      "metadata": {
        "id": "DvtHcYZ1CQZ3"
      },
      "source": [
        "x_train, y_train = np.array(x_train), np.array(y_train)"
      ],
      "execution_count": null,
      "outputs": []
    },
    {
      "cell_type": "markdown",
      "metadata": {
        "id": "i3vgV1bPCQZ5"
      },
      "source": [
        "##### Reshape the data"
      ]
    },
    {
      "cell_type": "markdown",
      "metadata": {
        "id": "YuFIvRy-CQZ5"
      },
      "source": [
        " (LSTM network expects the input to be 3-dimensional in the form of number of samples number of time stamp and no. of features and right now our x training data set is a 2- dimensional)"
      ]
    },
    {
      "cell_type": "code",
      "metadata": {
        "id": "wozacVBeCQZ6",
        "outputId": "4a496c14-3773-463d-86a8-29ab95b29a5c"
      },
      "source": [
        "x_train.shape"
      ],
      "execution_count": null,
      "outputs": [
        {
          "output_type": "execute_result",
          "data": {
            "text/plain": [
              "(815, 60)"
            ]
          },
          "metadata": {
            "tags": []
          },
          "execution_count": 163
        }
      ]
    },
    {
      "cell_type": "markdown",
      "metadata": {
        "id": "tg4xY2iTCQZ8"
      },
      "source": [
        "(rows, colums, features)"
      ]
    },
    {
      "cell_type": "code",
      "metadata": {
        "id": "UcMvpsRMCQZ8",
        "outputId": "a599cbf4-f3aa-4010-e35d-76b3e4d77c98"
      },
      "source": [
        "x_train = np.reshape(x_train, (x_train.shape[0], x_train.shape[1], 1))\n",
        "x_train.shape"
      ],
      "execution_count": null,
      "outputs": [
        {
          "output_type": "execute_result",
          "data": {
            "text/plain": [
              "(815, 60, 1)"
            ]
          },
          "metadata": {
            "tags": []
          },
          "execution_count": 164
        }
      ]
    },
    {
      "cell_type": "markdown",
      "metadata": {
        "id": "qKeJscSrCQZ-"
      },
      "source": [
        "##### Build the LSTM model"
      ]
    },
    {
      "cell_type": "markdown",
      "metadata": {
        "id": "RrI3S0WLCQaA"
      },
      "source": [
        " (50 here is the neurons, True because we are going to use another LSTM layer, False because we are not going to use anymore LSTM layer for our model)"
      ]
    },
    {
      "cell_type": "code",
      "metadata": {
        "id": "HrqSdpvcCQaB"
      },
      "source": [
        "model = Sequential()\n",
        "model.add(LSTM(50, return_sequences = True, input_shape = (x_train.shape[1],1)))\n",
        "model.add(LSTM(50, return_sequences = False))\n",
        "model.add(Dense(25))\n",
        "model.add(Dense(1))"
      ],
      "execution_count": null,
      "outputs": []
    },
    {
      "cell_type": "markdown",
      "metadata": {
        "id": "NnRYiEyLCQaD"
      },
      "source": [
        "###### Compile the model"
      ]
    },
    {
      "cell_type": "code",
      "metadata": {
        "id": "PKPbcrdRCQaD"
      },
      "source": [
        "model.compile(optimizer = 'adam', loss = 'mean_squared_error')"
      ],
      "execution_count": null,
      "outputs": []
    },
    {
      "cell_type": "markdown",
      "metadata": {
        "id": "6-iBsfQECQaG"
      },
      "source": [
        "###### Train the model"
      ]
    },
    {
      "cell_type": "markdown",
      "metadata": {
        "id": "3XaFvi_DCQaG"
      },
      "source": [
        " (Epoch{No. of iteration when entire data is passed forward and backward through a neural network} : One epoch means that each sample in the training dataset has had an opportunity to update the internal model parameters. \n",
        "An epoch is a measure of the number of times all of the training vectors are used once to update the weights. For batch training all of the training samples pass through the learning algorithm simultaneously in one epoch before weights are updated.)"
      ]
    },
    {
      "cell_type": "code",
      "metadata": {
        "id": "s3RjCv4NCQaH",
        "outputId": "ed004a7d-a3f7-4890-cb40-15168ef38955"
      },
      "source": [
        "model.fit(x_train, y_train, batch_size = 1, epochs = 1)"
      ],
      "execution_count": null,
      "outputs": [
        {
          "output_type": "stream",
          "text": [
            "Epoch 1/1\n",
            "815/815 [==============================] - 40s 49ms/step - loss: 0.0015\n"
          ],
          "name": "stdout"
        },
        {
          "output_type": "execute_result",
          "data": {
            "text/plain": [
              "<keras.callbacks.callbacks.History at 0x2382f93b708>"
            ]
          },
          "metadata": {
            "tags": []
          },
          "execution_count": 167
        }
      ]
    },
    {
      "cell_type": "markdown",
      "metadata": {
        "id": "JaLe8qKHCQaJ"
      },
      "source": [
        "##### Create the testing data set"
      ]
    },
    {
      "cell_type": "markdown",
      "metadata": {
        "id": "0jlqEnU8CQaK"
      },
      "source": [
        "##### Create a new array containing scaled values from index 815 to 1250"
      ]
    },
    {
      "cell_type": "markdown",
      "metadata": {
        "id": "w5Ew-JChCQaK"
      },
      "source": [
        " (rows from training data set -60 to end of the data set {training data set - 60:} and for colums its all columns{:})"
      ]
    },
    {
      "cell_type": "code",
      "metadata": {
        "id": "801fs_IdCQaL"
      },
      "source": [
        "test_data = scaled_data[training_data_len - 60: , :]"
      ],
      "execution_count": null,
      "outputs": []
    },
    {
      "cell_type": "markdown",
      "metadata": {
        "id": "iC_igIDiCQaM"
      },
      "source": [
        "##### Create the data sets x_test and y_test"
      ]
    },
    {
      "cell_type": "markdown",
      "metadata": {
        "id": "H0lLaHpeCQaN"
      },
      "source": [
        "y_test(which we want our model to predict, actual 60 first value which are not scaled, these values are the normal value in the dataset), in x_test we append past 60 value to our data here 0 is the column 0\n"
      ]
    },
    {
      "cell_type": "code",
      "metadata": {
        "id": "agLw3PFVCQaN"
      },
      "source": [
        "x_test = []\n",
        "y_test = dataset[training_data_len:, :]\n",
        "for i in range(60, len(test_data)):\n",
        "    x_test.append(test_data[i - 60:i, 0])"
      ],
      "execution_count": null,
      "outputs": []
    },
    {
      "cell_type": "markdown",
      "metadata": {
        "id": "UOXwIRTGCQaQ"
      },
      "source": [
        "##### Convert the data to a numpy array"
      ]
    },
    {
      "cell_type": "code",
      "metadata": {
        "id": "-Z2oBHETCQaQ"
      },
      "source": [
        "x_test = np.array(x_test)"
      ],
      "execution_count": null,
      "outputs": []
    },
    {
      "cell_type": "markdown",
      "metadata": {
        "id": "KFLAHglXCQaT"
      },
      "source": [
        "##### Reshape the data"
      ]
    },
    {
      "cell_type": "code",
      "metadata": {
        "id": "gb3UiporCQaT"
      },
      "source": [
        "x_test = np.reshape(x_test, (x_test.shape[0], x_test.shape[1], 1))"
      ],
      "execution_count": null,
      "outputs": []
    },
    {
      "cell_type": "markdown",
      "metadata": {
        "id": "AbUoZMLDCQaV"
      },
      "source": [
        "##### Get the models predicted price value "
      ]
    },
    {
      "cell_type": "markdown",
      "metadata": {
        "id": "G8HKGHA2CQaV"
      },
      "source": [
        "(here we unscaling the value and we want it to contain the same value as y_test dataset contains)"
      ]
    },
    {
      "cell_type": "code",
      "metadata": {
        "id": "dvCUUUdXCQaV"
      },
      "source": [
        "predictions = model.predict(x_test)\n",
        "predictions = scaler.inverse_transform(predictions)"
      ],
      "execution_count": null,
      "outputs": []
    },
    {
      "cell_type": "markdown",
      "metadata": {
        "id": "kCQd4pbQCQaX"
      },
      "source": [
        "##### Get the root mean squared error (RMSE)"
      ]
    },
    {
      "cell_type": "markdown",
      "metadata": {
        "id": "Q4fiM3-nCQaY"
      },
      "source": [
        " {RMSE is a good measure of how accurate the model predict the response and the standard deviation of the residuals and the lower value of our RMSE indicate a better fit, we can also use other models so that we can get an idea of how our model perform but for now we are using RMSE}"
      ]
    },
    {
      "cell_type": "code",
      "metadata": {
        "id": "QGjO4q2dCQaY",
        "outputId": "d774a683-e70e-4808-9fc0-99fc9e42f128"
      },
      "source": [
        "rmse = np.sqrt( np.mean(predictions - y_test) ** 2 )\n",
        "rmse  "
      ],
      "execution_count": null,
      "outputs": [
        {
          "output_type": "execute_result",
          "data": {
            "text/plain": [
              "0.09913484700520833"
            ]
          },
          "metadata": {
            "tags": []
          },
          "execution_count": 173
        }
      ]
    },
    {
      "cell_type": "markdown",
      "metadata": {
        "id": "qc4LciCPCQab"
      },
      "source": [
        "##### Plot the data"
      ]
    },
    {
      "cell_type": "code",
      "metadata": {
        "id": "29cCC3I7CQab",
        "outputId": "2ce93776-9d00-4fc4-f76f-59767bda1156"
      },
      "source": [
        "train = data[:training_data_len]\n",
        "valid = data[training_data_len:]\n",
        "valid['Predictions'] = predictions\n"
      ],
      "execution_count": null,
      "outputs": [
        {
          "output_type": "stream",
          "text": [
            "T:\\ANACONDA\\lib\\site-packages\\ipykernel_launcher.py:3: SettingWithCopyWarning: \n",
            "A value is trying to be set on a copy of a slice from a DataFrame.\n",
            "Try using .loc[row_indexer,col_indexer] = value instead\n",
            "\n",
            "See the caveats in the documentation: http://pandas.pydata.org/pandas-docs/stable/user_guide/indexing.html#returning-a-view-versus-a-copy\n",
            "  This is separate from the ipykernel package so we can avoid doing imports until\n"
          ],
          "name": "stderr"
        }
      ]
    },
    {
      "cell_type": "markdown",
      "metadata": {
        "id": "8ZDlKx8ACQad"
      },
      "source": [
        "##### Visualize the data"
      ]
    },
    {
      "cell_type": "code",
      "metadata": {
        "id": "QNg1zQC7CQae",
        "outputId": "864da5ea-8d25-4b48-cf5d-9b5157e29474"
      },
      "source": [
        "plt.figure(figsize =  (16, 8))\n",
        "plt.title('Model')\n",
        "plt.xlabel('Data', fontsize = 18)\n",
        "plt.ylabel('Close Price USD ($)', fontsize = 18)\n",
        "plt.plot(train['Close'])\n",
        "plt.plot(valid[['Close', 'Predictions']])\n",
        "plt.legend(['Train', 'Val', 'Predictions'], loc = 'lower right')\n",
        "plt.show()"
      ],
      "execution_count": null,
      "outputs": [
        {
          "output_type": "display_data",
          "data": {
            "image/png": "[encoded data removed]",
            "text/plain": [
              "<Figure size 1152x576 with 1 Axes>"
            ]
          },
          "metadata": {
            "tags": []
          }
        }
      ]
    },
    {
      "cell_type": "markdown",
      "metadata": {
        "id": "Ni7R2BpCCQaf"
      },
      "source": [
        "In the above plot the reddish orange color is the actual value for the rest of these days is the actual closing stock price for Apple for the rest of the days and then the orangish yellow is the predictions is what our model predicted the values to be so that this line here and they are really really close so its look like our model is pretty decent"
      ]
    },
    {
      "cell_type": "markdown",
      "metadata": {
        "id": "EtdahMcqCQag"
      },
      "source": [
        "##### Show the valid/actual price and the predicted prices"
      ]
    },
    {
      "cell_type": "code",
      "metadata": {
        "id": "4UVkn12tCQag",
        "outputId": "29bebf00-30aa-48b5-a25a-ec6b812a69ab"
      },
      "source": [
        "valid"
      ],
      "execution_count": null,
      "outputs": [
        {
          "output_type": "execute_result",
          "data": {
            "text/html": [
              "<div>\n",
              "<style scoped>\n",
              "    .dataframe tbody tr th:only-of-type {\n",
              "        vertical-align: middle;\n",
              "    }\n",
              "\n",
              "    .dataframe tbody tr th {\n",
              "        vertical-align: top;\n",
              "    }\n",
              "\n",
              "    .dataframe thead th {\n",
              "        text-align: right;\n",
              "    }\n",
              "</style>\n",
              "<table border=\"1\" class=\"dataframe\">\n",
              "  <thead>\n",
              "    <tr style=\"text-align: right;\">\n",
              "      <th></th>\n",
              "      <th>Close</th>\n",
              "      <th>Predictions</th>\n",
              "    </tr>\n",
              "    <tr>\n",
              "      <th>Date</th>\n",
              "      <th></th>\n",
              "      <th></th>\n",
              "    </tr>\n",
              "  </thead>\n",
              "  <tbody>\n",
              "    <tr>\n",
              "      <td>2018-06-22</td>\n",
              "      <td>184.919998</td>\n",
              "      <td>190.514069</td>\n",
              "    </tr>\n",
              "    <tr>\n",
              "      <td>2018-06-25</td>\n",
              "      <td>182.169998</td>\n",
              "      <td>189.734573</td>\n",
              "    </tr>\n",
              "    <tr>\n",
              "      <td>2018-06-26</td>\n",
              "      <td>184.429993</td>\n",
              "      <td>188.788574</td>\n",
              "    </tr>\n",
              "    <tr>\n",
              "      <td>2018-06-27</td>\n",
              "      <td>184.160004</td>\n",
              "      <td>188.002792</td>\n",
              "    </tr>\n",
              "    <tr>\n",
              "      <td>2018-06-28</td>\n",
              "      <td>185.500000</td>\n",
              "      <td>187.350952</td>\n",
              "    </tr>\n",
              "    <tr>\n",
              "      <td>...</td>\n",
              "      <td>...</td>\n",
              "      <td>...</td>\n",
              "    </tr>\n",
              "    <tr>\n",
              "      <td>2019-12-11</td>\n",
              "      <td>270.769989</td>\n",
              "      <td>265.051575</td>\n",
              "    </tr>\n",
              "    <tr>\n",
              "      <td>2019-12-12</td>\n",
              "      <td>271.459991</td>\n",
              "      <td>265.757507</td>\n",
              "    </tr>\n",
              "    <tr>\n",
              "      <td>2019-12-13</td>\n",
              "      <td>275.149994</td>\n",
              "      <td>266.559875</td>\n",
              "    </tr>\n",
              "    <tr>\n",
              "      <td>2019-12-16</td>\n",
              "      <td>279.859985</td>\n",
              "      <td>267.643616</td>\n",
              "    </tr>\n",
              "    <tr>\n",
              "      <td>2019-12-17</td>\n",
              "      <td>280.410004</td>\n",
              "      <td>269.161316</td>\n",
              "    </tr>\n",
              "  </tbody>\n",
              "</table>\n",
              "<p>375 rows × 2 columns</p>\n",
              "</div>"
            ],
            "text/plain": [
              "                 Close  Predictions\n",
              "Date                               \n",
              "2018-06-22  184.919998   190.514069\n",
              "2018-06-25  182.169998   189.734573\n",
              "2018-06-26  184.429993   188.788574\n",
              "2018-06-27  184.160004   188.002792\n",
              "2018-06-28  185.500000   187.350952\n",
              "...                ...          ...\n",
              "2019-12-11  270.769989   265.051575\n",
              "2019-12-12  271.459991   265.757507\n",
              "2019-12-13  275.149994   266.559875\n",
              "2019-12-16  279.859985   267.643616\n",
              "2019-12-17  280.410004   269.161316\n",
              "\n",
              "[375 rows x 2 columns]"
            ]
          },
          "metadata": {
            "tags": []
          },
          "execution_count": 176
        }
      ]
    },
    {
      "cell_type": "markdown",
      "metadata": {
        "id": "VwUDnnxnCQai"
      },
      "source": [
        "##### Get the quote"
      ]
    },
    {
      "cell_type": "code",
      "metadata": {
        "id": "sEXMVIgOCQai"
      },
      "source": [
        "apple_quote = web.DataReader('AAPL', data_source = 'yahoo', start = '2015-01-01', end = '2019-12-17')\n"
      ],
      "execution_count": null,
      "outputs": []
    },
    {
      "cell_type": "markdown",
      "metadata": {
        "id": "uY53DwPRCQal"
      },
      "source": [
        " ##### Create a new dataframe"
      ]
    },
    {
      "cell_type": "code",
      "metadata": {
        "id": "GyNDY_RNCQal"
      },
      "source": [
        "new_df = apple_quote.filter(['Close'])"
      ],
      "execution_count": null,
      "outputs": []
    },
    {
      "cell_type": "markdown",
      "metadata": {
        "id": "r_fI0hnzCQao"
      },
      "source": [
        "###### Get the last 60 day closing price values and convert the dataframe to an array"
      ]
    },
    {
      "cell_type": "code",
      "metadata": {
        "id": "QlCi7WmwCQao"
      },
      "source": [
        "last_60_days = new_df[-60:].values"
      ],
      "execution_count": null,
      "outputs": []
    },
    {
      "cell_type": "markdown",
      "metadata": {
        "id": "DemoS6rQCQaq"
      },
      "source": [
        "##### Scale the data to be values between 0 to 1"
      ]
    },
    {
      "cell_type": "code",
      "metadata": {
        "id": "kTx3GSJJCQaq"
      },
      "source": [
        "last_60_days_scaled = scaler.transform(last_60_days)"
      ],
      "execution_count": null,
      "outputs": []
    },
    {
      "cell_type": "markdown",
      "metadata": {
        "id": "6JHbxJ9_CQas"
      },
      "source": [
        "##### Create an empty list"
      ]
    },
    {
      "cell_type": "code",
      "metadata": {
        "id": "q-oWwn-7CQat"
      },
      "source": [
        "X_test = []"
      ],
      "execution_count": null,
      "outputs": []
    },
    {
      "cell_type": "markdown",
      "metadata": {
        "id": "XgrBr_sHCQaw"
      },
      "source": [
        "##### Append the past 60 days"
      ]
    },
    {
      "cell_type": "code",
      "metadata": {
        "id": "MQwhVq_8CQaw"
      },
      "source": [
        "X_test.append(last_60_days_scaled)"
      ],
      "execution_count": null,
      "outputs": []
    },
    {
      "cell_type": "markdown",
      "metadata": {
        "id": "XB7Nt92zCQay"
      },
      "source": [
        "##### Convert the X_test data set to a numpy array"
      ]
    },
    {
      "cell_type": "code",
      "metadata": {
        "id": "ip7hVJQMCQa1"
      },
      "source": [
        "X_test = np.array(X_test)"
      ],
      "execution_count": null,
      "outputs": []
    },
    {
      "cell_type": "markdown",
      "metadata": {
        "id": "W3vnQxXMCQa3"
      },
      "source": [
        "##### Reshape the data"
      ]
    },
    {
      "cell_type": "code",
      "metadata": {
        "id": "PYHSAfAkCQa4"
      },
      "source": [
        "X_test = np.reshape(X_test, (X_test.shape[0], X_test.shape[1], 1))"
      ],
      "execution_count": null,
      "outputs": []
    },
    {
      "cell_type": "markdown",
      "metadata": {
        "id": "adbXl7HsCQa7"
      },
      "source": [
        "##### Get the predicted scaled price"
      ]
    },
    {
      "cell_type": "code",
      "metadata": {
        "id": "h0-4lqbBCQa8"
      },
      "source": [
        "pred_price = model.predict(X_test)"
      ],
      "execution_count": null,
      "outputs": []
    },
    {
      "cell_type": "markdown",
      "metadata": {
        "id": "Lh5fcoNwCQa-"
      },
      "source": [
        "##### Undo the scaling "
      ]
    },
    {
      "cell_type": "code",
      "metadata": {
        "id": "gVC0DQlACQa-",
        "outputId": "f550fd19-3b8d-46a5-c848-c29f9d8d289b"
      },
      "source": [
        "pred_price = scaler.inverse_transform(pred_price)\n",
        "print(pred_price)"
      ],
      "execution_count": null,
      "outputs": [
        {
          "output_type": "stream",
          "text": [
            "[[270.8302]]\n"
          ],
          "name": "stdout"
        }
      ]
    },
    {
      "cell_type": "markdown",
      "metadata": {
        "id": "zNVlWx6oCQbA"
      },
      "source": [
        "##### Get the quote"
      ]
    },
    {
      "cell_type": "code",
      "metadata": {
        "id": "rjADof6NCQbA",
        "outputId": "dbe93008-61b0-4597-d0df-9ee5fc8bd4e1"
      },
      "source": [
        "apple_quote2 = web.DataReader('AAPL', data_source = 'yahoo', start = '2015-01-01', end = '2019-12-17')\n",
        "print(apple_quote2['Close'])"
      ],
      "execution_count": null,
      "outputs": [
        {
          "output_type": "stream",
          "text": [
            "Date\n",
            "2014-12-31    110.379997\n",
            "2015-01-02    109.330002\n",
            "2015-01-05    106.250000\n",
            "2015-01-06    106.260002\n",
            "2015-01-07    107.750000\n",
            "                 ...    \n",
            "2019-12-11    270.769989\n",
            "2019-12-12    271.459991\n",
            "2019-12-13    275.149994\n",
            "2019-12-16    279.859985\n",
            "2019-12-17    280.410004\n",
            "Name: Close, Length: 1250, dtype: float64\n"
          ],
          "name": "stdout"
        }
      ]
    },
    {
      "cell_type": "markdown",
      "metadata": {
        "id": "23lKB-FACQbC"
      },
      "source": [
        " On 2019-12-17 the actual price is 280.410004 and our predicted price is 270.8302 which is little bit off by 9.579804 value."
      ]
    }
  ]
}